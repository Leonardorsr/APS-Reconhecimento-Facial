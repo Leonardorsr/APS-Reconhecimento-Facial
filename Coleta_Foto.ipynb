{
 "cells": [
  {
   "cell_type": "code",
   "execution_count": null,
   "metadata": {},
   "outputs": [],
   "source": [
    "import cv2\n",
    "import numpy as np\n",
    "\n",
    "#help(cv2.face)"
   ]
  },
  {
   "cell_type": "code",
   "execution_count": null,
   "metadata": {},
   "outputs": [],
   "source": [
    "#variáveis:\n",
    "camera = cv2.VideoCapture(0)\n",
    "classificadorRosto = cv2.CascadeClassifier(\"haarcascade_frontalface_default.xml\")\n",
    "classificadorOlho = cv2.CascadeClassifier(\"haarcascade_eye.xml\")\n",
    "\n",
    "amostra = 1\n",
    "numeroAmostras = 25\n",
    "largura, altura = 220,220"
   ]
  },
  {
   "cell_type": "code",
   "execution_count": null,
   "metadata": {},
   "outputs": [],
   "source": [
    "id = input('Digite seu identificador: ')\n",
    "\n",
    "print(\"Capturando as faces...\")\n",
    "\n",
    "\n",
    "#Coletador de amostras\n",
    "while True:\n",
    "  conectado, imagem = camera.read()\n",
    "  imagemCinza = cv2.cvtColor(imagem, cv2.COLOR_BGR2GRAY)\n",
    "  #print(np.average(imagemCinza))\n",
    "  \n",
    "\n",
    "  facesDetectadas = classificadorRosto.detectMultiScale(imagemCinza, scaleFactor=1.5, minSize=(150,150))\n",
    "  \n",
    "  \n",
    "  for (x,y,l,a) in facesDetectadas:\n",
    "    cv2.rectangle(imagem, (x, y), (x+l, y+a), (0,0,255), 2)\n",
    "    regiao = imagem[y:y +a, x:x +l]\n",
    "    regiaoCinzaOlho = cv2.cvtColor(regiao, cv2.COLOR_BGR2GRAY)\n",
    "    olhosDetectados = classificadorOlho.detectMultiScale(regiaoCinzaOlho)\n",
    "    \n",
    "    for (ox,oy,ol,oa) in olhosDetectados:\n",
    "      cv2.rectangle(regiao, (ox,oy), (ox+ol, oy+oa), (0,255,0), 2)\n",
    "    \n",
    "      if cv2.waitKey(1) & 0xFF == ord(\"q\"):\n",
    "        if np.average(imagemCinza) >110:\n",
    "          imagemFace = cv2.resize(imagemCinza[y:y+a, x:x + l], (largura,altura))\n",
    "          cv2.imwrite(\"fotos/pessoa.\" + str(id) +\".\"+str(amostra)+\".jpg\", imagemFace)\n",
    "          print(\"[foto \"+str(amostra) + \" capturada com sucesso]\")\n",
    "          amostra += 1\n",
    "  \n",
    "  cv2.imshow(\"Face\",imagem)\n",
    "  cv2.waitKey(1)\n",
    "  if (amostra>= numeroAmostras + 1):\n",
    "    break\n",
    "\n",
    "print(\"Faces capturadas com sucesso\") \n",
    "camera.release()\n",
    "cv2.destroyAllWindows()"
   ]
  }
 ],
 "metadata": {
  "kernelspec": {
   "display_name": "Python 3",
   "language": "python",
   "name": "python3"
  },
  "language_info": {
   "codemirror_mode": {
    "name": "ipython",
    "version": 3
   },
   "file_extension": ".py",
   "mimetype": "text/x-python",
   "name": "python",
   "nbconvert_exporter": "python",
   "pygments_lexer": "ipython3",
   "version": "3.10.10"
  }
 },
 "nbformat": 4,
 "nbformat_minor": 2
}
